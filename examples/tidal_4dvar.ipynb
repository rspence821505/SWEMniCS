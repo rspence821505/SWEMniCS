{
 "cells": [
  {
   "cell_type": "code",
   "execution_count": 1,
   "metadata": {},
   "outputs": [],
   "source": [
    "from swemnics.problems import TidalProblem\n",
    "from swemnics import solvers as Solvers\n",
    "from mpi4py import MPI\n",
    "import numpy as np\n",
    "import pandas as pd\n",
    "import matplotlib.pyplot as plt\n",
    "from dolfinx import fem as fe\n",
    "from tqdm import tqdm\n",
    "\n",
    "import pandas as pd\n",
    "from scipy.optimize import minimize\n",
    "import seaborn as sns \n",
    "from typing import Callable, Dict, List, Tuple, Any, Union\n",
    "\n",
    "from plotting import plot_simulation_results, create_comparison_figure\n",
    "from fourd_var import*\n",
    "from dca_utils import*\n",
    "\n",
    "sns.set_palette(\"bright\")\n",
    "plt.style.use(\"mystyle1.mplstyle\")"
   ]
  },
  {
   "cell_type": "code",
   "execution_count": 2,
   "metadata": {},
   "outputs": [],
   "source": [
    "comm = MPI.COMM_WORLD\n",
    "rank = comm.Get_rank()\n",
    "\n",
    "\n",
    "problem_params = {\n",
    "    'nx': 20,\n",
    "    'ny': 5,\n",
    "    'dt': 3600,\n",
    "    't': 0,\n",
    "    't_final': 7*24*60*60, # 7 days \n",
    "    'num_steps': int(np.ceil((7*24*60*60)/3600)),\n",
    "    'num_windows': 4,\n",
    "    'fric_law': 'mannings',    #friction law either quadratic or linear\n",
    "    'sol_var': 'h'             #solution variable either h or hu\n",
    "}\n",
    "\n",
    "solver_params = {\"rtol\": 1e-5,\n",
    "          \"atol\": 1e-6,\n",
    "          \"max_it\":10,\n",
    "          \"relaxation_parameter\":1.0,\n",
    "          \"ksp_type\": \"gmres\",\n",
    "          \"pc_type\": \"ilu\",\n",
    "          \"ksp_ErrorIfNotConverged\": False,\n",
    "          }#,\"pc_factor_mat_solver_type\":\"mumps\"}\n"
   ]
  },
  {
   "cell_type": "code",
   "execution_count": 10,
   "metadata": {},
   "outputs": [
    {
     "name": "stdout",
     "output_type": "stream",
     "text": [
      "V scalar FunctionSpace(<Mesh #2>, Basix element (P, triangle, 1, gll_warped, unset, False, float64, []))\n",
      "WD NONACTIVE\n",
      "WD NONACTIVE\n",
      "WD NONACTIVE\n",
      "WD NONACTIVE\n",
      "WD NONACTIVE\n",
      "USING NONSPHERICAL WELLBALANCED\n",
      "WD NONACTIVE\n",
      "CF =  0.025\n",
      "WD NONACTIVE\n",
      "WD NONACTIVE\n",
      "WD NONACTIVE\n",
      "WD NONACTIVE\n",
      "WD NONACTIVE\n",
      "WD NONACTIVE\n",
      "WD NONACTIVE\n",
      "WD NONACTIVE\n",
      "WD NONACTIVE\n",
      "WD NONACTIVE\n",
      "WD NONACTIVE\n",
      "CF =  0.025\n",
      "V_coords shape: (126, 3)\n",
      "Solver object <class 'swemnics.newton.CustomNewtonProblem'> has been initialized\n"
     ]
    }
   ],
   "source": [
    "assert problem_params['num_steps'] == int(np.ceil(problem_params['t_final']/problem_params['dt']))\n",
    "obs_frequency = 4  # observe system every 4th time step\n",
    "true_signal, prob, stations, state_coords = get_true_signal(problem_params,\n",
    "                                                            'tidal',\n",
    "                                                            solver_params, \n",
    "                                                            create_problem_solver,\n",
    "                                                            obs_frequency)"
   ]
  },
  {
   "cell_type": "code",
   "execution_count": 11,
   "metadata": {},
   "outputs": [
    {
     "name": "stdout",
     "output_type": "stream",
     "text": [
      "Total Dof =  H_dof x u_dof x v_dof: (378,)\n",
      "Observation Frequency: 4\n",
      "Number of Stations x (H,u,v): (32, 3)\n",
      "N Time Steps, N Stations, N Variables: (169, 32, 3)\n",
      "Number of Adjoints Saved: 168\n",
      "Adjoint Size: ((378, 378), (378, 378))\n",
      "Number of states Saved: 168\n",
      "State Size: (378,)\n"
     ]
    }
   ],
   "source": [
    "print(f\"Total Dof =  H_dof x u_dof x v_dof: {true_signal.u.x.array.shape}\")\n",
    "print(f\"Observation Frequency: {obs_frequency}\")\n",
    "print(f\"Number of Stations x (H,u,v): {stations.shape}\")\n",
    "print(f\"N Time Steps, N Stations, N Variables: {true_signal.vals.shape}\")\n",
    "print(f\"Number of Adjoints Saved: {len(true_signal.saved_jacobians)}\")\n",
    "print(f\"Adjoint Size: {true_signal.saved_jacobians[0].sizes}\")\n",
    "print(f\"Number of states Saved: {len(true_signal.saved_states)}\")\n",
    "print(f\"State Size: {true_signal.saved_states[0].x.array.shape}\")"
   ]
  },
  {
   "cell_type": "code",
   "execution_count": 28,
   "metadata": {},
   "outputs": [
    {
     "name": "stdout",
     "output_type": "stream",
     "text": [
      "Total Steps: 169\n",
      "Total Assimilation Windows: 4\n",
      "Steps per Window: 42\n",
      "Obs Frequency: 4\n",
      "Total Obs: 40\n",
      "Number Stations: 32\n",
      "Obs per Window: 10\n",
      "\n",
      "Observation Spatial Indices: [  0   4   8  12  16  20  24  28  32  36  40  44  48  52  56  60  64  68\n",
      "  72  76  80  84  88  92  96 100 104 108 112 116 120 124]\n",
      "\n",
      "Observation Time Indices: [  0   4   8  12  16  20  24  28  32  36  40  44  48  52  56  60  64  68\n",
      "  72  76  80  84  88  92  96 100 104 108 112 116 120 124 128 132 136 140\n",
      " 144 148 152 156 160 164 168]\n",
      "\n",
      "Observation Time Indices per Window: [ 0  4  8 12 16 20 24 28 32 36 40]\n",
      "\n",
      "\n",
      "State Dimension: 126\n",
      "Observation Dimension: 32\n",
      "Background Covariance Matrix Shape B: (126, 126)\n",
      "Observation Covariance Matrix Shape R: (32, 32)\n",
      "Predicted Error Covariance Matrix shape P: (32, 32)\n",
      "Observation Matrix Shape H: (32, 126)\n",
      "\n"
     ]
    }
   ],
   "source": [
    "obs_std=0.8\n",
    "total_steps = int((problem_params['t_final']/problem_params['dt']) + 1)\n",
    "problem_params['num_steps'] = int(np.ceil((7*24*60*60)/3600)/problem_params['num_windows']) # Size of each assimilation window\n",
    "obs_per_window = problem_params['num_steps'] // obs_frequency \n",
    "\n",
    "print(f\"Total Steps: {total_steps}\\n\"\n",
    "      f\"Total Assimilation Windows: {problem_params['num_windows']}\\n\"\n",
    "      f\"Steps per Window: {problem_params['num_steps']}\\n\"\n",
    "      f\"Obs Frequency: {obs_frequency}\\n\"\n",
    "      f\"Total Obs: {obs_per_window * problem_params['num_windows']}\\n\"\n",
    "      f\"Number Stations: {stations.shape[0]}\\n\"\n",
    "      f\"Obs per Window: {obs_per_window}\\n\")\n",
    "\n",
    "\n",
    "# Create synthetic observations\n",
    "obs_spatial_indices = find_obs_indices(stations, state_coords)\n",
    "obs_indices_per_window, obs_time_indices = setup_observation_indices(problem_params['num_steps'], obs_frequency, total_steps)\n",
    "\n",
    "print(f\"Observation Spatial Indices: {obs_spatial_indices}\\n\\n\"\n",
    "      f\"Observation Time Indices: {obs_time_indices}\\n\\n\"\n",
    "      f\"Observation Time Indices per Window: {obs_indices_per_window}\\n\\n\"\n",
    "      )\n",
    "\n",
    "hb = 10 + (stations[:, 0]*0)\n",
    "y_obs = generate_observations(true_signal, hb, obs_time_indices, obs_std)\n",
    "\n",
    "\n",
    "# Generate Background,Observation, and Predicted Error Covariance Matrices\n",
    "state_dim = true_signal.problem.h_b.x.array.shape[0]\n",
    "obs_dim = stations.shape[0]\n",
    "\n",
    "# Observation Matrix\n",
    "H = np.zeros((obs_dim, state_dim))\n",
    "H[np.arange(obs_dim), obs_spatial_indices] = 1.0\n",
    "\n",
    "# Observation Covariance \n",
    "R = np.eye(obs_dim) * (obs_std**2)\n",
    "\n",
    "# Background Covariance \n",
    "inflation_factor=3.5\n",
    "B = inflation_factor*np.eye(state_dim) \n",
    "\n",
    "# Predicted Covariance\n",
    "P = H @ B @ H.T \n",
    "\n",
    "# Get Inverse Covariance matrices\n",
    "R_inv = np.linalg.inv(R)\n",
    "B_inv = np.linalg.inv(B) \n",
    "P_inv = np.linalg.inv(P)\n",
    "\n",
    "print(f\"State Dimension: {state_dim}\\n\"\n",
    "      f\"Observation Dimension: {obs_dim}\\n\"\n",
    "      f\"Background Covariance Matrix Shape B: {B.shape}\\n\"\n",
    "      f\"Observation Covariance Matrix Shape R: {R.shape}\\n\"\n",
    "      f\"Predicted Error Covariance Matrix shape P: {P.shape}\\n\"\n",
    "      f\"Observation Matrix Shape H: {H.shape}\\n\")\n"
   ]
  },
  {
   "cell_type": "code",
   "execution_count": null,
   "metadata": {},
   "outputs": [],
   "source": [
    "def swe_adjoint(solver, V, H, obs_data, obs_spatial_idxs, obs_time_idxs, R_inv\n",
    "    ) -> np.ndarray:\n",
    "        \"\"\"\n",
    "        Solves the adjoint equation backward in time using UFL's automatic differentiation.\n",
    "\n",
    "        Parameters:\n",
    "            solver: Solver object containing the forward problem solution and adjoint forms\n",
    "            V: Function space\n",
    "            H: Observation operator\n",
    "            obs_time_idxs: List of observation times (indices)\n",
    "            obs_data: List of np.ndarrays of observation data\n",
    "            obs_spatial_idxs: DOF indices of observations\n",
    "            R_inv: Inverse of observation covariance matrix\n",
    "        Returns:\n",
    "            grad_init: NumPy array representing ∇J(z0)\n",
    "        \"\"\"\n",
    "        adjoints = solver.saved_jacobians   # List of adjoint forms for each time step\n",
    "        trajectories = solver.saved_states     # List of states at each time step\n",
    "        \n",
    "        \n",
    "        nt = solver.vals.shape[0] - 1  # Number of time steps\n",
    "        λ = fem.Function(V)\n",
    "        λ_vec = np.zeros((nt + 1, len(λ.x.array)))\n",
    "        λ.x.array[:] = 0.0\n",
    "\n",
    "        # Create functions for current and next time steps\n",
    "        u_n = fem.Function(V)\n",
    "\n",
    "        # possible that λ_nt = Initial Misfit\n",
    "        for n in reversed(range(nt)):\n",
    "            # Set the state at the current time step\n",
    "            u_n.x.array[:] = trajectories[n].copy()\n",
    "\n",
    "            # build rhs of the adjoint equation H^TRinv(HQ - y)\n",
    "            # Add the observation term if this is an observation time\n",
    "            if n in obs_time_idxs:\n",
    "                idx = obs_time_idxs.index(n)\n",
    "                residual = trajectories[n + 1][obs_spatial_idxs] - obs_data[idx,:]  # HQ - y \n",
    "\n",
    "                # Create a function to represent the observation term\n",
    "                obs_func = fem.Function(V)\n",
    "                obs_func.x.array[:] = 0.0\n",
    "                obs_func.x.array[obs_spatial_idxs] = H.T @ R_inv @ residual\n",
    "\n",
    "                # Add contribution to the adjoint right-hand side\n",
    "                λ.x.array[:] += obs_func.x.array[:]\n",
    "\n",
    "            # Get Rid of this code\n",
    "            # L_adjoint = (1/dt) * inner(λ, v) * dx  # RHS of adjoint equation\n",
    "            # problem = LinearProblem(adjoints, L_adjoint, bcs=[bc],\n",
    "            #                        petsc_options={\"ksp_type\": \"preonly\", \"pc_type\": \"lu\"})\n",
    "            # λ_sol = problem.solve()\n",
    "\n",
    "            # New code to keep ( Look at claude implementation of solvers for ks and burgers for the solves)\n",
    "            # Solve the adjoint problem Rylan todo: (use ksp) in Custom_Newton\n",
    "            # Update adjoint variable\n",
    "            # λ_sol  =  ksp.solve(a_adjoints[n], λ.x.array[:])\n",
    "            \n",
    "            λ.x.array[:] = λ_sol.x.array[:]\n",
    "            λ_vec[n, :] = λ.x.array.copy()\n",
    "\n",
    "        return λ_vec[0, :]"
   ]
  },
  {
   "cell_type": "code",
   "execution_count": 31,
   "metadata": {},
   "outputs": [
    {
     "data": {
      "text/plain": [
       "10"
      ]
     },
     "execution_count": 31,
     "metadata": {},
     "output_type": "execute_result"
    }
   ],
   "source": [
    "obs_per_window"
   ]
  },
  {
   "cell_type": "code",
   "execution_count": 44,
   "metadata": {},
   "outputs": [
    {
     "data": {
      "text/plain": [
       "(43, 32)"
      ]
     },
     "execution_count": 44,
     "metadata": {},
     "output_type": "execute_result"
    }
   ],
   "source": [
    "y_obs.shape"
   ]
  },
  {
   "cell_type": "code",
   "execution_count": 32,
   "metadata": {},
   "outputs": [
    {
     "data": {
      "text/plain": [
       "array([ 0,  4,  8, 12, 16, 20, 24, 28, 32, 36, 40])"
      ]
     },
     "execution_count": 32,
     "metadata": {},
     "output_type": "execute_result"
    }
   ],
   "source": [
    "obs_indices_per_window"
   ]
  },
  {
   "cell_type": "code",
   "execution_count": 37,
   "metadata": {},
   "outputs": [
    {
     "data": {
      "text/plain": [
       "array([ 0,  4,  8, 12, 16, 20, 24, 28, 32, 36])"
      ]
     },
     "execution_count": 37,
     "metadata": {},
     "output_type": "execute_result"
    }
   ],
   "source": [
    "obs_time_indices[:obs_per_window]"
   ]
  },
  {
   "cell_type": "code",
   "execution_count": 43,
   "metadata": {},
   "outputs": [
    {
     "name": "stdout",
     "output_type": "stream",
     "text": [
      "[ 0  4  8 12 16 20 24 28 32 36]\n",
      "Window 0: Observations from time steps 0 to 10\n",
      "Observation Indices for Window 0: [0 1 2 3 4 5 6 7 8 9]\n",
      "[40 44 48 52 56 60 64 68 72 76]\n",
      "Window 1: Observations from time steps 10 to 20\n",
      "Observation Indices for Window 1: [10 11 12 13 14 15 16 17 18 19]\n",
      "[ 80  84  88  92  96 100 104 108 112 116]\n",
      "Window 2: Observations from time steps 20 to 30\n",
      "Observation Indices for Window 2: [20 21 22 23 24 25 26 27 28 29]\n",
      "[120 124 128 132 136 140 144 148 152 156]\n",
      "Window 3: Observations from time steps 30 to 40\n",
      "Observation Indices for Window 3: [30 31 32 33 34 35 36 37 38 39]\n"
     ]
    }
   ],
   "source": [
    "for i in range(problem_params['num_windows']):\n",
    "        start = i * obs_per_window\n",
    "        end = start + obs_per_window\n",
    "        print(obs_time_indices[start:end])\n",
    "        print(f\"Window {i}: Observations from time steps {start} to {end}\")\n",
    "        indices = np.arange(obs_per_window) + (i * obs_per_window)\n",
    "        print(f\"Observation Indices for Window {i}: {indices}\")\n",
    "\n",
    "    \n",
    "    # Save or process the gradient as needed"
   ]
  },
  {
   "cell_type": "code",
   "execution_count": 40,
   "metadata": {},
   "outputs": [
    {
     "data": {
      "text/plain": [
       "(43, 32)"
      ]
     },
     "execution_count": 40,
     "metadata": {},
     "output_type": "execute_result"
    }
   ],
   "source": [
    "y_obs.shape"
   ]
  },
  {
   "cell_type": "code",
   "execution_count": null,
   "metadata": {},
   "outputs": [
    {
     "name": "stderr",
     "output_type": "stream",
     "text": [
      "Processing windows:   0%|          | 0/4 [00:00<?, ?window/s]"
     ]
    },
    {
     "name": "stdout",
     "output_type": "stream",
     "text": [
      "V scalar FunctionSpace(<Mesh #1>, Basix element (P, triangle, 1, gll_warped, unset, False, float64, []))\n",
      "USING NONSPHERICAL WELLBALANCED\n",
      "Solver Time 1: 0\n",
      "Iteration 1: Cost = 19.043767\n",
      "Iteration 2: Cost = 18.470399\n"
     ]
    },
    {
     "name": "stderr",
     "output_type": "stream",
     "text": [
      "Processing windows:   0%|          | 0/4 [08:48<?, ?window/s]\n"
     ]
    },
    {
     "ename": "KeyboardInterrupt",
     "evalue": "",
     "output_type": "error",
     "traceback": [
      "\u001b[31m---------------------------------------------------------------------------\u001b[39m",
      "\u001b[31mKeyboardInterrupt\u001b[39m                         Traceback (most recent call last)",
      "\u001b[36mCell\u001b[39m\u001b[36m \u001b[39m\u001b[32mIn[8]\u001b[39m\u001b[32m, line 1\u001b[39m\n\u001b[32m----> \u001b[39m\u001b[32m1\u001b[39m bayes_analysis = \u001b[43mrun_assimilation\u001b[49m\u001b[43m(\u001b[49m\u001b[43mproblem_params\u001b[49m\u001b[43m,\u001b[49m\u001b[43m \u001b[49m\u001b[43msolver_params\u001b[49m\u001b[43m,\u001b[49m\u001b[43m \u001b[49m\u001b[43mstations\u001b[49m\u001b[43m,\u001b[49m\u001b[43m \u001b[49m\u001b[43my_obs\u001b[49m\u001b[43m,\u001b[49m\u001b[43m \u001b[49m\u001b[43mobs_per_window\u001b[49m\u001b[43m,\u001b[49m\n\u001b[32m      2\u001b[39m \u001b[43m                             \u001b[49m\u001b[43mobs_indices_per_window\u001b[49m\u001b[43m,\u001b[49m\n\u001b[32m      3\u001b[39m \u001b[43m                             \u001b[49m\u001b[43mH\u001b[49m\u001b[43m,\u001b[49m\u001b[43m \u001b[49m\u001b[43mB_inv\u001b[49m\u001b[43m,\u001b[49m\u001b[43m \u001b[49m\u001b[43mR_inv\u001b[49m\u001b[43m,\u001b[49m\u001b[43m \u001b[49m\u001b[43mP_inv\u001b[49m\u001b[43m,\u001b[49m\u001b[43m \u001b[49m\u001b[43mhb\u001b[49m\u001b[43m,\u001b[49m\n\u001b[32m      4\u001b[39m \u001b[43m                             \u001b[49m\u001b[33;43m'\u001b[39;49m\u001b[33;43mtidal\u001b[39;49m\u001b[33;43m'\u001b[39;49m\u001b[43m,\u001b[49m\n\u001b[32m      5\u001b[39m \u001b[43m                             \u001b[49m\u001b[43mcreate_problem_solver\u001b[49m\u001b[43m,\u001b[49m\n\u001b[32m      6\u001b[39m \u001b[43m                             \u001b[49m\u001b[43mbayes_cost_function\u001b[49m\u001b[43m,\u001b[49m\n\u001b[32m      7\u001b[39m \u001b[43m                             \u001b[49m\u001b[43mgrad_bayes_cost_function\u001b[49m\n\u001b[32m      8\u001b[39m \u001b[43m                             \u001b[49m\u001b[43m)\u001b[49m\n",
      "\u001b[36mFile \u001b[39m\u001b[32m~/Desktop/Git/DC/Thesis/dcvar_swe_temp/fourd_var.py:631\u001b[39m, in \u001b[36mrun_assimilation\u001b[39m\u001b[34m(problem_params, solver_params, stations, y_obs, obs_per_window, obs_indices_per_window, H, B_inv, R_inv, P_inv, hb, problem_type, create_problem_solver, cost_function, grad_cost_function)\u001b[39m\n\u001b[32m    627\u001b[39m     z_b = wse_0.x.array[:]\n\u001b[32m    629\u001b[39m \u001b[38;5;66;03m# rint(f\"initial wse_0 : {z0[::10]}\")\u001b[39;00m\n\u001b[32m--> \u001b[39m\u001b[32m631\u001b[39m wse_0.x.array[:], solver_state_info = \u001b[43moptimize_4dvar\u001b[49m\u001b[43m(\u001b[49m\n\u001b[32m    632\u001b[39m \u001b[43m    \u001b[49m\u001b[43mz0\u001b[49m\u001b[43m,\u001b[49m\n\u001b[32m    633\u001b[39m \u001b[43m    \u001b[49m\u001b[43mz_b\u001b[49m\u001b[43m,\u001b[49m\n\u001b[32m    634\u001b[39m \u001b[43m    \u001b[49m\u001b[43myobs_current_window\u001b[49m\u001b[43m,\u001b[49m\n\u001b[32m    635\u001b[39m \u001b[43m    \u001b[49m\u001b[43mobs_indices_per_window\u001b[49m\u001b[43m[\u001b[49m\u001b[43m:\u001b[49m\u001b[43m-\u001b[49m\u001b[32;43m1\u001b[39;49m\u001b[43m]\u001b[49m\u001b[43m,\u001b[49m\u001b[43m  \u001b[49m\u001b[38;5;66;43;03m# CG\u001b[39;49;00m\n\u001b[32m    636\u001b[39m \u001b[43m    \u001b[49m\u001b[38;5;66;43;03m# obs_indices_per_window,  # DG\u001b[39;49;00m\n\u001b[32m    637\u001b[39m \u001b[43m    \u001b[49m\u001b[43mH\u001b[49m\u001b[43m,\u001b[49m\n\u001b[32m    638\u001b[39m \u001b[43m    \u001b[49m\u001b[43mB_inv\u001b[49m\u001b[43m,\u001b[49m\n\u001b[32m    639\u001b[39m \u001b[43m    \u001b[49m\u001b[43mR_inv\u001b[49m\u001b[43m,\u001b[49m\n\u001b[32m    640\u001b[39m \u001b[43m    \u001b[49m\u001b[43mP_inv\u001b[49m\u001b[43m,\u001b[49m\n\u001b[32m    641\u001b[39m \u001b[43m    \u001b[49m\u001b[43mQ_zb\u001b[49m\u001b[43m,\u001b[49m\n\u001b[32m    642\u001b[39m \u001b[43m    \u001b[49m\u001b[43mstations\u001b[49m\u001b[43m,\u001b[49m\n\u001b[32m    643\u001b[39m \u001b[43m    \u001b[49m\u001b[43mhb\u001b[49m\u001b[43m,\u001b[49m\n\u001b[32m    644\u001b[39m \u001b[43m    \u001b[49m\u001b[43msolver_params\u001b[49m\u001b[43m,\u001b[49m\n\u001b[32m    645\u001b[39m \u001b[43m    \u001b[49m\u001b[43mcost_function\u001b[49m\u001b[43m,\u001b[49m\n\u001b[32m    646\u001b[39m \u001b[43m    \u001b[49m\u001b[43mgrad_cost_function\u001b[49m\u001b[43m,\u001b[49m\n\u001b[32m    647\u001b[39m \u001b[43m    \u001b[49m\u001b[43msolver\u001b[49m\u001b[43m,\u001b[49m\n\u001b[32m    648\u001b[39m \u001b[43m    \u001b[49m\u001b[43minitial_time\u001b[49m\u001b[43m,\u001b[49m\n\u001b[32m    649\u001b[39m \u001b[43m\u001b[49m\u001b[43m)\u001b[49m\n\u001b[32m    651\u001b[39m \u001b[38;5;66;03m# print(f\"Optimized wse_0 : {wse_0.x.array[:][::10]}\")\u001b[39;00m\n\u001b[32m    652\u001b[39m \n\u001b[32m    653\u001b[39m \u001b[38;5;66;03m# Update state with optimized values\u001b[39;00m\n\u001b[32m    654\u001b[39m h_0.interpolate(\n\u001b[32m    655\u001b[39m     fe.Expression(wse_0 + h_b, V.sub(\u001b[32m0\u001b[39m).element.interpolation_points())\n\u001b[32m    656\u001b[39m )\n",
      "\u001b[36mFile \u001b[39m\u001b[32m~/Desktop/Git/DC/Thesis/dcvar_swe_temp/fourd_var.py:492\u001b[39m, in \u001b[36moptimize_4dvar\u001b[39m\u001b[34m(z0, z_b, y_obs, obs_indices, H, B_inv, R_inv, P_inv, Q_zb, stations, hb, solver_params, cost_function, grad_cost_function, solver, init_time)\u001b[39m\n\u001b[32m    487\u001b[39m \u001b[38;5;66;03m# options = {\"maxfun\": 10}\u001b[39;00m\n\u001b[32m    488\u001b[39m \u001b[38;5;66;03m# options = {\"gtol\": 1e-6, \"ftol\": 1e-12, \"maxiter\": 1000, \"disp\": True}\u001b[39;00m\n\u001b[32m    489\u001b[39m \u001b[38;5;66;03m# print(\"New Expirement\")\u001b[39;00m\n\u001b[32m    490\u001b[39m options = {\u001b[33m\"\u001b[39m\u001b[33mmaxiter\u001b[39m\u001b[33m\"\u001b[39m: \u001b[32m5\u001b[39m, \u001b[33m\"\u001b[39m\u001b[33mdisp\u001b[39m\u001b[33m\"\u001b[39m: \u001b[38;5;28;01mTrue\u001b[39;00m}\n\u001b[32m--> \u001b[39m\u001b[32m492\u001b[39m result = \u001b[43mminimize\u001b[49m\u001b[43m(\u001b[49m\n\u001b[32m    493\u001b[39m \u001b[43m    \u001b[49m\u001b[43mcost_fn\u001b[49m\u001b[43m,\u001b[49m\n\u001b[32m    494\u001b[39m \u001b[43m    \u001b[49m\u001b[43mz0\u001b[49m\u001b[43m,\u001b[49m\n\u001b[32m    495\u001b[39m \u001b[43m    \u001b[49m\u001b[43mmethod\u001b[49m\u001b[43m=\u001b[49m\u001b[33;43m\"\u001b[39;49m\u001b[33;43mL-BFGS-B\u001b[39;49m\u001b[33;43m\"\u001b[39;49m\u001b[43m,\u001b[49m\n\u001b[32m    496\u001b[39m \u001b[43m    \u001b[49m\u001b[43mjac\u001b[49m\u001b[43m=\u001b[49m\u001b[43mgrad_fn\u001b[49m\u001b[43m,\u001b[49m\n\u001b[32m    497\u001b[39m \u001b[43m    \u001b[49m\u001b[43mcallback\u001b[49m\u001b[43m=\u001b[49m\u001b[43mcallback\u001b[49m\u001b[43m,\u001b[49m\n\u001b[32m    498\u001b[39m \u001b[43m    \u001b[49m\u001b[43moptions\u001b[49m\u001b[43m=\u001b[49m\u001b[43moptions\u001b[49m\u001b[43m,\u001b[49m\n\u001b[32m    499\u001b[39m \u001b[43m    \u001b[49m\u001b[43mtol\u001b[49m\u001b[43m=\u001b[49m\u001b[32;43m1e-8\u001b[39;49m\u001b[43m,\u001b[49m\n\u001b[32m    500\u001b[39m \u001b[43m\u001b[49m\u001b[43m)\u001b[49m\n\u001b[32m    502\u001b[39m \u001b[38;5;66;03m# Print optimization results\u001b[39;00m\n\u001b[32m    503\u001b[39m \u001b[38;5;28mprint\u001b[39m(\u001b[33m\"\u001b[39m\u001b[38;5;130;01m\\n\u001b[39;00m\u001b[33m Optimization completed:\u001b[39m\u001b[33m\"\u001b[39m)\n",
      "\u001b[36mFile \u001b[39m\u001b[32m~/mambaforge/envs/fenics-env3/lib/python3.13/site-packages/scipy/optimize/_minimize.py:738\u001b[39m, in \u001b[36mminimize\u001b[39m\u001b[34m(fun, x0, args, method, jac, hess, hessp, bounds, constraints, tol, callback, options)\u001b[39m\n\u001b[32m    735\u001b[39m     res = _minimize_newtoncg(fun, x0, args, jac, hess, hessp, callback,\n\u001b[32m    736\u001b[39m                              **options)\n\u001b[32m    737\u001b[39m \u001b[38;5;28;01melif\u001b[39;00m meth == \u001b[33m'\u001b[39m\u001b[33ml-bfgs-b\u001b[39m\u001b[33m'\u001b[39m:\n\u001b[32m--> \u001b[39m\u001b[32m738\u001b[39m     res = \u001b[43m_minimize_lbfgsb\u001b[49m\u001b[43m(\u001b[49m\u001b[43mfun\u001b[49m\u001b[43m,\u001b[49m\u001b[43m \u001b[49m\u001b[43mx0\u001b[49m\u001b[43m,\u001b[49m\u001b[43m \u001b[49m\u001b[43margs\u001b[49m\u001b[43m,\u001b[49m\u001b[43m \u001b[49m\u001b[43mjac\u001b[49m\u001b[43m,\u001b[49m\u001b[43m \u001b[49m\u001b[43mbounds\u001b[49m\u001b[43m,\u001b[49m\n\u001b[32m    739\u001b[39m \u001b[43m                           \u001b[49m\u001b[43mcallback\u001b[49m\u001b[43m=\u001b[49m\u001b[43mcallback\u001b[49m\u001b[43m,\u001b[49m\u001b[43m \u001b[49m\u001b[43m*\u001b[49m\u001b[43m*\u001b[49m\u001b[43moptions\u001b[49m\u001b[43m)\u001b[49m\n\u001b[32m    740\u001b[39m \u001b[38;5;28;01melif\u001b[39;00m meth == \u001b[33m'\u001b[39m\u001b[33mtnc\u001b[39m\u001b[33m'\u001b[39m:\n\u001b[32m    741\u001b[39m     res = _minimize_tnc(fun, x0, args, jac, bounds, callback=callback,\n\u001b[32m    742\u001b[39m                         **options)\n",
      "\u001b[36mFile \u001b[39m\u001b[32m~/mambaforge/envs/fenics-env3/lib/python3.13/site-packages/scipy/optimize/_lbfgsb_py.py:441\u001b[39m, in \u001b[36m_minimize_lbfgsb\u001b[39m\u001b[34m(fun, x0, args, jac, bounds, disp, maxcor, ftol, gtol, eps, maxfun, maxiter, iprint, callback, maxls, finite_diff_rel_step, **unknown_options)\u001b[39m\n\u001b[32m    433\u001b[39m _lbfgsb.setulb(m, x, low_bnd, upper_bnd, nbd, f, g, factr, pgtol, wa,\n\u001b[32m    434\u001b[39m                iwa, task, lsave, isave, dsave, maxls, ln_task)\n\u001b[32m    436\u001b[39m \u001b[38;5;28;01mif\u001b[39;00m task[\u001b[32m0\u001b[39m] == \u001b[32m3\u001b[39m:\n\u001b[32m    437\u001b[39m     \u001b[38;5;66;03m# The minimization routine wants f and g at the current x.\u001b[39;00m\n\u001b[32m    438\u001b[39m     \u001b[38;5;66;03m# Note that interruptions due to maxfun are postponed\u001b[39;00m\n\u001b[32m    439\u001b[39m     \u001b[38;5;66;03m# until the completion of the current minimization iteration.\u001b[39;00m\n\u001b[32m    440\u001b[39m     \u001b[38;5;66;03m# Overwrite f and g:\u001b[39;00m\n\u001b[32m--> \u001b[39m\u001b[32m441\u001b[39m     f, g = \u001b[43mfunc_and_grad\u001b[49m\u001b[43m(\u001b[49m\u001b[43mx\u001b[49m\u001b[43m)\u001b[49m\n\u001b[32m    442\u001b[39m \u001b[38;5;28;01melif\u001b[39;00m task[\u001b[32m0\u001b[39m] == \u001b[32m1\u001b[39m:\n\u001b[32m    443\u001b[39m     \u001b[38;5;66;03m# new iteration\u001b[39;00m\n\u001b[32m    444\u001b[39m     n_iterations += \u001b[32m1\u001b[39m\n",
      "\u001b[36mFile \u001b[39m\u001b[32m~/mambaforge/envs/fenics-env3/lib/python3.13/site-packages/scipy/optimize/_differentiable_functions.py:345\u001b[39m, in \u001b[36mScalarFunction.fun_and_grad\u001b[39m\u001b[34m(self, x)\u001b[39m\n\u001b[32m    343\u001b[39m     \u001b[38;5;28mself\u001b[39m._update_x(x)\n\u001b[32m    344\u001b[39m \u001b[38;5;28mself\u001b[39m._update_fun()\n\u001b[32m--> \u001b[39m\u001b[32m345\u001b[39m \u001b[38;5;28;43mself\u001b[39;49m\u001b[43m.\u001b[49m\u001b[43m_update_grad\u001b[49m\u001b[43m(\u001b[49m\u001b[43m)\u001b[49m\n\u001b[32m    346\u001b[39m \u001b[38;5;28;01mreturn\u001b[39;00m \u001b[38;5;28mself\u001b[39m.f, \u001b[38;5;28mself\u001b[39m.g\n",
      "\u001b[36mFile \u001b[39m\u001b[32m~/mambaforge/envs/fenics-env3/lib/python3.13/site-packages/scipy/optimize/_differentiable_functions.py:307\u001b[39m, in \u001b[36mScalarFunction._update_grad\u001b[39m\u001b[34m(self)\u001b[39m\n\u001b[32m    305\u001b[39m \u001b[38;5;28;01mif\u001b[39;00m \u001b[38;5;28mself\u001b[39m._orig_grad \u001b[38;5;129;01min\u001b[39;00m FD_METHODS:\n\u001b[32m    306\u001b[39m     \u001b[38;5;28mself\u001b[39m._update_fun()\n\u001b[32m--> \u001b[39m\u001b[32m307\u001b[39m \u001b[38;5;28mself\u001b[39m.g = \u001b[38;5;28;43mself\u001b[39;49m\u001b[43m.\u001b[49m\u001b[43m_wrapped_grad\u001b[49m\u001b[43m(\u001b[49m\u001b[38;5;28;43mself\u001b[39;49m\u001b[43m.\u001b[49m\u001b[43mx\u001b[49m\u001b[43m,\u001b[49m\u001b[43m \u001b[49m\u001b[43mf0\u001b[49m\u001b[43m=\u001b[49m\u001b[38;5;28;43mself\u001b[39;49m\u001b[43m.\u001b[49m\u001b[43mf\u001b[49m\u001b[43m)\u001b[49m\n\u001b[32m    308\u001b[39m \u001b[38;5;28mself\u001b[39m.g_updated = \u001b[38;5;28;01mTrue\u001b[39;00m\n",
      "\u001b[36mFile \u001b[39m\u001b[32m~/mambaforge/envs/fenics-env3/lib/python3.13/site-packages/scipy/optimize/_differentiable_functions.py:42\u001b[39m, in \u001b[36m_wrapper_grad.<locals>.wrapped\u001b[39m\u001b[34m(x, **kwds)\u001b[39m\n\u001b[32m     39\u001b[39m \u001b[38;5;28;01mdef\u001b[39;00m\u001b[38;5;250m \u001b[39m\u001b[34mwrapped\u001b[39m(x, **kwds):\n\u001b[32m     40\u001b[39m     \u001b[38;5;66;03m# kwds present to give function same signature as numdiff variant\u001b[39;00m\n\u001b[32m     41\u001b[39m     ncalls[\u001b[32m0\u001b[39m] += \u001b[32m1\u001b[39m\n\u001b[32m---> \u001b[39m\u001b[32m42\u001b[39m     \u001b[38;5;28;01mreturn\u001b[39;00m np.atleast_1d(\u001b[43mgrad\u001b[49m\u001b[43m(\u001b[49m\u001b[43mnp\u001b[49m\u001b[43m.\u001b[49m\u001b[43mcopy\u001b[49m\u001b[43m(\u001b[49m\u001b[43mx\u001b[49m\u001b[43m)\u001b[49m\u001b[43m,\u001b[49m\u001b[43m \u001b[49m\u001b[43m*\u001b[49m\u001b[43margs\u001b[49m\u001b[43m)\u001b[49m)\n",
      "\u001b[36mFile \u001b[39m\u001b[32m~/Desktop/Git/DC/Thesis/dcvar_swe_temp/fourd_var.py:460\u001b[39m, in \u001b[36moptimize_4dvar.<locals>.grad_fn\u001b[39m\u001b[34m(z0)\u001b[39m\n\u001b[32m    459\u001b[39m \u001b[38;5;28;01mdef\u001b[39;00m\u001b[38;5;250m \u001b[39m\u001b[34mgrad_fn\u001b[39m(z0):\n\u001b[32m--> \u001b[39m\u001b[32m460\u001b[39m     total_gradient = \u001b[43mcost_function_gradient\u001b[49m\u001b[43m(\u001b[49m\u001b[43mz0\u001b[49m\u001b[43m)\u001b[49m\n\u001b[32m    461\u001b[39m     \u001b[38;5;66;03m# total_gradient = grad_cost_function(\u001b[39;00m\n\u001b[32m    462\u001b[39m     \u001b[38;5;66;03m#     z0,\u001b[39;00m\n\u001b[32m    463\u001b[39m     \u001b[38;5;66;03m#     z_b,\u001b[39;00m\n\u001b[32m   (...)\u001b[39m\u001b[32m    476\u001b[39m     \u001b[38;5;66;03m# )\u001b[39;00m\n\u001b[32m    477\u001b[39m     \u001b[38;5;66;03m# print(f\"Gradient: {total_gradient.shape}\")\u001b[39;00m\n\u001b[32m    478\u001b[39m     \u001b[38;5;28;01mreturn\u001b[39;00m total_gradient\n",
      "\u001b[36mFile \u001b[39m\u001b[32m~/Desktop/Git/DC/Thesis/dcvar_swe_temp/fourd_var.py:452\u001b[39m, in \u001b[36moptimize_4dvar.<locals>.cost_function_gradient\u001b[39m\u001b[34m(z0, epsilon)\u001b[39m\n\u001b[32m    449\u001b[39m x_plus[i] += epsilon\n\u001b[32m    450\u001b[39m x_minus[i] -= epsilon\n\u001b[32m--> \u001b[39m\u001b[32m452\u001b[39m J_plus = \u001b[43mcost_fn\u001b[49m\u001b[43m(\u001b[49m\u001b[43mx_plus\u001b[49m\u001b[43m)\u001b[49m\n\u001b[32m    453\u001b[39m J_minus = cost_fn(x_minus)\n\u001b[32m    455\u001b[39m grad[i] = (J_plus - J_minus) / (\u001b[32m2\u001b[39m * epsilon)\n",
      "\u001b[36mFile \u001b[39m\u001b[32m~/Desktop/Git/DC/Thesis/dcvar_swe_temp/fourd_var.py:419\u001b[39m, in \u001b[36moptimize_4dvar.<locals>.cost_fn\u001b[39m\u001b[34m(z0)\u001b[39m\n\u001b[32m    418\u001b[39m \u001b[38;5;28;01mdef\u001b[39;00m\u001b[38;5;250m \u001b[39m\u001b[34mcost_fn\u001b[39m(z0):\n\u001b[32m--> \u001b[39m\u001b[32m419\u001b[39m     total_cost = \u001b[43mcost_function\u001b[49m\u001b[43m(\u001b[49m\n\u001b[32m    420\u001b[39m \u001b[43m        \u001b[49m\u001b[43mz0\u001b[49m\u001b[43m,\u001b[49m\n\u001b[32m    421\u001b[39m \u001b[43m        \u001b[49m\u001b[43mz_b\u001b[49m\u001b[43m,\u001b[49m\n\u001b[32m    422\u001b[39m \u001b[43m        \u001b[49m\u001b[43my_obs\u001b[49m\u001b[43m,\u001b[49m\n\u001b[32m    423\u001b[39m \u001b[43m        \u001b[49m\u001b[43mobs_indices\u001b[49m\u001b[43m,\u001b[49m\n\u001b[32m    424\u001b[39m \u001b[43m        \u001b[49m\u001b[43mH\u001b[49m\u001b[43m,\u001b[49m\n\u001b[32m    425\u001b[39m \u001b[43m        \u001b[49m\u001b[43mB_inv\u001b[49m\u001b[43m,\u001b[49m\n\u001b[32m    426\u001b[39m \u001b[43m        \u001b[49m\u001b[43mR_inv\u001b[49m\u001b[43m,\u001b[49m\n\u001b[32m    427\u001b[39m \u001b[43m        \u001b[49m\u001b[43mP_inv\u001b[49m\u001b[43m,\u001b[49m\n\u001b[32m    428\u001b[39m \u001b[43m        \u001b[49m\u001b[43mQ_zb\u001b[49m\u001b[43m,\u001b[49m\n\u001b[32m    429\u001b[39m \u001b[43m        \u001b[49m\u001b[43msolver_params\u001b[49m\u001b[43m,\u001b[49m\n\u001b[32m    430\u001b[39m \u001b[43m        \u001b[49m\u001b[43mstations\u001b[49m\u001b[43m,\u001b[49m\n\u001b[32m    431\u001b[39m \u001b[43m        \u001b[49m\u001b[43mhb\u001b[49m\u001b[43m,\u001b[49m\n\u001b[32m    432\u001b[39m \u001b[43m        \u001b[49m\u001b[43msolver\u001b[49m\u001b[43m,\u001b[49m\n\u001b[32m    433\u001b[39m \u001b[43m        \u001b[49m\u001b[43minit_time\u001b[49m\u001b[43m,\u001b[49m\n\u001b[32m    434\u001b[39m \u001b[43m    \u001b[49m\u001b[43m)\u001b[49m\n\u001b[32m    435\u001b[39m     \u001b[38;5;66;03m# print(f\"Cost function value: {total_cost}\")\u001b[39;00m\n\u001b[32m    436\u001b[39m     \u001b[38;5;28;01mreturn\u001b[39;00m total_cost\n",
      "\u001b[36mFile \u001b[39m\u001b[32m~/Desktop/Git/DC/Thesis/dcvar_swe_temp/fourd_var.py:107\u001b[39m, in \u001b[36mbayes_cost_function\u001b[39m\u001b[34m(z, z_b, y_obs, obs_indices, H, B_inv, R_inv, P_inv, Q_zb, solver_params, stations, hb, solver, init_time)\u001b[39m\n\u001b[32m    104\u001b[39m J_b = background_loss(z, z_b, B_inv)\n\u001b[32m    106\u001b[39m \u001b[38;5;66;03m# Get model trajectory observations\u001b[39;00m\n\u001b[32m--> \u001b[39m\u001b[32m107\u001b[39m Qz, _ = \u001b[43mget_trajectory_observations\u001b[49m\u001b[43m(\u001b[49m\n\u001b[32m    108\u001b[39m \u001b[43m    \u001b[49m\u001b[43mz\u001b[49m\u001b[43m,\u001b[49m\n\u001b[32m    109\u001b[39m \u001b[43m    \u001b[49m\u001b[43mobs_indices\u001b[49m\u001b[43m,\u001b[49m\n\u001b[32m    110\u001b[39m \u001b[43m    \u001b[49m\u001b[43msolver_params\u001b[49m\u001b[43m,\u001b[49m\n\u001b[32m    111\u001b[39m \u001b[43m    \u001b[49m\u001b[43mstations\u001b[49m\u001b[43m,\u001b[49m\n\u001b[32m    112\u001b[39m \u001b[43m    \u001b[49m\u001b[43mhb\u001b[49m\u001b[43m,\u001b[49m\n\u001b[32m    113\u001b[39m \u001b[43m    \u001b[49m\u001b[43msolver\u001b[49m\u001b[43m,\u001b[49m\n\u001b[32m    114\u001b[39m \u001b[43m\u001b[49m\u001b[43m)\u001b[49m\n\u001b[32m    115\u001b[39m \u001b[38;5;66;03m# print(\"\\n\")\u001b[39;00m\n\u001b[32m    116\u001b[39m \u001b[38;5;66;03m# print(f\"Qz: {Qz.shape}, y: {y_obs.shape}\")\u001b[39;00m\n\u001b[32m    117\u001b[39m \u001b[38;5;66;03m# print(f\"Qz: {Qz[::10]}\")\u001b[39;00m\n\u001b[32m   (...)\u001b[39m\u001b[32m    120\u001b[39m \n\u001b[32m    121\u001b[39m \u001b[38;5;66;03m# Compute observation loss term\u001b[39;00m\n\u001b[32m    122\u001b[39m J_o = observation_loss(Qz, y_obs, R_inv)\n",
      "\u001b[36mFile \u001b[39m\u001b[32m~/Desktop/Git/DC/Thesis/dcvar_swe_temp/fourd_var.py:71\u001b[39m, in \u001b[36mget_trajectory_observations\u001b[39m\u001b[34m(z, obs_indices, solver_params, stations, hb, solver)\u001b[39m\n\u001b[32m     68\u001b[39m h_0.interpolate(fe.Expression(wse_0 + h_b, V.sub(\u001b[32m0\u001b[39m).element.interpolation_points()))\n\u001b[32m     70\u001b[39m u_0.sub(\u001b[32m0\u001b[39m).interpolate(h_0)\n\u001b[32m---> \u001b[39m\u001b[32m71\u001b[39m _, _, h_jacobian = \u001b[43msolver\u001b[49m\u001b[43m.\u001b[49m\u001b[43mtime_loop\u001b[49m\u001b[43m(\u001b[49m\n\u001b[32m     72\u001b[39m \u001b[43m    \u001b[49m\u001b[43msolver_parameters\u001b[49m\u001b[43m=\u001b[49m\u001b[43msolver_params\u001b[49m\u001b[43m,\u001b[49m\u001b[43m \u001b[49m\u001b[43mstations\u001b[49m\u001b[43m=\u001b[49m\u001b[43mstations\u001b[49m\u001b[43m,\u001b[49m\u001b[43m \u001b[49m\u001b[43mu_0\u001b[49m\u001b[43m=\u001b[49m\u001b[43mu_0\u001b[49m\n\u001b[32m     73\u001b[39m \u001b[43m\u001b[49m\u001b[43m)\u001b[49m\n\u001b[32m     75\u001b[39m trajectory = solver.vals[:, :, \u001b[32m0\u001b[39m]  \u001b[38;5;66;03m# get h at station locations\u001b[39;00m\n\u001b[32m     76\u001b[39m wse = trajectory - hb  \u001b[38;5;66;03m# convert h to wse\u001b[39;00m\n",
      "\u001b[36mFile \u001b[39m\u001b[32m~/mambaforge/envs/fenics-env3/lib/python3.13/site-packages/swemnics/solvers.py:797\u001b[39m, in \u001b[36mCGImplicit.time_loop\u001b[39m\u001b[34m(self, solver_parameters, stations, plot_every, plot_name, u_0)\u001b[39m\n\u001b[32m    795\u001b[39m \u001b[38;5;28mself\u001b[39m.update_solution()\n\u001b[32m    796\u001b[39m \u001b[38;5;66;03m# working version here\u001b[39;00m\n\u001b[32m--> \u001b[39m\u001b[32m797\u001b[39m \u001b[38;5;28;43mself\u001b[39;49m\u001b[43m.\u001b[49m\u001b[43msolve_timestep\u001b[49m\u001b[43m(\u001b[49m\u001b[43msolver\u001b[49m\u001b[43m)\u001b[49m\n\u001b[32m    799\u001b[39m \u001b[38;5;66;03m# add data to station variable\u001b[39;00m\n\u001b[32m    800\u001b[39m \u001b[38;5;28;01mif\u001b[39;00m \u001b[38;5;28mlen\u001b[39m(stations):\n",
      "\u001b[36mFile \u001b[39m\u001b[32m~/mambaforge/envs/fenics-env3/lib/python3.13/site-packages/swemnics/solvers.py:513\u001b[39m, in \u001b[36mCGImplicit.solve_timestep\u001b[39m\u001b[34m(self, solver)\u001b[39m\n\u001b[32m    507\u001b[39m \u001b[38;5;250m\u001b[39m\u001b[33;03m\"\"\"Solve the nonlinear problem at the current time step.\u001b[39;00m\n\u001b[32m    508\u001b[39m \n\u001b[32m    509\u001b[39m \u001b[33;03mArgs:\u001b[39;00m\n\u001b[32m    510\u001b[39m \u001b[33;03m  solver: Newton solver.\u001b[39;00m\n\u001b[32m    511\u001b[39m \u001b[33;03m\"\"\"\u001b[39;00m\n\u001b[32m    512\u001b[39m \u001b[38;5;28;01mtry\u001b[39;00m:\n\u001b[32m--> \u001b[39m\u001b[32m513\u001b[39m     \u001b[43msolver\u001b[49m\u001b[43m.\u001b[49m\u001b[43msolve\u001b[49m\u001b[43m(\u001b[49m\u001b[38;5;28;43mself\u001b[39;49m\u001b[43m.\u001b[49m\u001b[43mu\u001b[49m\u001b[43m)\u001b[49m\n\u001b[32m    514\u001b[39m \u001b[38;5;28;01mexcept\u001b[39;00m \u001b[38;5;167;01mRuntimeError\u001b[39;00m:\n\u001b[32m    515\u001b[39m     h_fun = \u001b[38;5;28mself\u001b[39m.u.sub(\u001b[32m0\u001b[39m).collapse()\n",
      "\u001b[36mFile \u001b[39m\u001b[32m~/mambaforge/envs/fenics-env3/lib/python3.13/site-packages/swemnics/newton.py:106\u001b[39m, in \u001b[36mCustomNewtonProblem.solve\u001b[39m\u001b[34m(self, u, max_it)\u001b[39m\n\u001b[32m    104\u001b[39m     loc_L.set(\u001b[32m0\u001b[39m)\n\u001b[32m    105\u001b[39m A.zeroEntries()\n\u001b[32m--> \u001b[39m\u001b[32m106\u001b[39m \u001b[43mpetsc\u001b[49m\u001b[43m.\u001b[49m\u001b[43massemble_matrix\u001b[49m\u001b[43m(\u001b[49m\u001b[43mA\u001b[49m\u001b[43m,\u001b[49m\u001b[43m \u001b[49m\u001b[38;5;28;43mself\u001b[39;49m\u001b[43m.\u001b[49m\u001b[43mjacobian\u001b[49m\u001b[43m,\u001b[49m\u001b[43m \u001b[49m\u001b[43mbcs\u001b[49m\u001b[43m=\u001b[49m\u001b[38;5;28;43mself\u001b[39;49m\u001b[43m.\u001b[49m\u001b[43mbcs\u001b[49m\u001b[43m)\u001b[49m\n\u001b[32m    107\u001b[39m A.assemble()\n\u001b[32m    108\u001b[39m petsc.assemble_vector(L, \u001b[38;5;28mself\u001b[39m.residual)\n",
      "\u001b[36mFile \u001b[39m\u001b[32m~/mambaforge/envs/fenics-env3/lib/python3.13/functools.py:934\u001b[39m, in \u001b[36msingledispatch.<locals>.wrapper\u001b[39m\u001b[34m(*args, **kw)\u001b[39m\n\u001b[32m    931\u001b[39m \u001b[38;5;28;01mif\u001b[39;00m \u001b[38;5;129;01mnot\u001b[39;00m args:\n\u001b[32m    932\u001b[39m     \u001b[38;5;28;01mraise\u001b[39;00m \u001b[38;5;167;01mTypeError\u001b[39;00m(\u001b[33mf\u001b[39m\u001b[33m'\u001b[39m\u001b[38;5;132;01m{\u001b[39;00mfuncname\u001b[38;5;132;01m}\u001b[39;00m\u001b[33m requires at least \u001b[39m\u001b[33m'\u001b[39m\n\u001b[32m    933\u001b[39m                     \u001b[33m'\u001b[39m\u001b[33m1 positional argument\u001b[39m\u001b[33m'\u001b[39m)\n\u001b[32m--> \u001b[39m\u001b[32m934\u001b[39m \u001b[38;5;28;01mreturn\u001b[39;00m \u001b[43mdispatch\u001b[49m\u001b[43m(\u001b[49m\u001b[43margs\u001b[49m\u001b[43m[\u001b[49m\u001b[32;43m0\u001b[39;49m\u001b[43m]\u001b[49m\u001b[43m.\u001b[49m\u001b[34;43m__class__\u001b[39;49m\u001b[43m)\u001b[49m\u001b[43m(\u001b[49m\u001b[43m*\u001b[49m\u001b[43margs\u001b[49m\u001b[43m,\u001b[49m\u001b[43m \u001b[49m\u001b[43m*\u001b[49m\u001b[43m*\u001b[49m\u001b[43mkw\u001b[49m\u001b[43m)\u001b[49m\n",
      "\u001b[36mFile \u001b[39m\u001b[32m~/mambaforge/envs/fenics-env3/lib/python3.13/site-packages/dolfinx/fem/petsc.py:449\u001b[39m, in \u001b[36massemble_matrix_mat\u001b[39m\u001b[34m(A, a, bcs, diagonal, constants, coeffs)\u001b[39m\n\u001b[32m    445\u001b[39m     assemble_matrix_mat(A, a, bcs, diagonal, constants, coeffs)\n\u001b[32m    446\u001b[39m     \u001b[38;5;28;01mreturn\u001b[39;00m A\n\u001b[32m--> \u001b[39m\u001b[32m449\u001b[39m \u001b[38;5;129m@assemble_matrix\u001b[39m.register\n\u001b[32m    450\u001b[39m \u001b[38;5;28;01mdef\u001b[39;00m\u001b[38;5;250m \u001b[39m\u001b[34massemble_matrix_mat\u001b[39m(\n\u001b[32m    451\u001b[39m     A: PETSc.Mat,\n\u001b[32m    452\u001b[39m     a: Form,\n\u001b[32m    453\u001b[39m     bcs: \u001b[38;5;28mlist\u001b[39m[DirichletBC] = [],\n\u001b[32m    454\u001b[39m     diagonal: \u001b[38;5;28mfloat\u001b[39m = \u001b[32m1.0\u001b[39m,\n\u001b[32m    455\u001b[39m     constants=\u001b[38;5;28;01mNone\u001b[39;00m,\n\u001b[32m    456\u001b[39m     coeffs=\u001b[38;5;28;01mNone\u001b[39;00m,\n\u001b[32m    457\u001b[39m ) -> PETSc.Mat:\n\u001b[32m    458\u001b[39m \u001b[38;5;250m    \u001b[39m\u001b[33;03m\"\"\"Assemble bilinear form into a matrix.\u001b[39;00m\n\u001b[32m    459\u001b[39m \n\u001b[32m    460\u001b[39m \u001b[33;03m    The returned matrix is not finalised, i.e. ghost values are not\u001b[39;00m\n\u001b[32m    461\u001b[39m \u001b[33;03m    accumulated.\u001b[39;00m\n\u001b[32m    462\u001b[39m \u001b[33;03m    \"\"\"\u001b[39;00m\n\u001b[32m    463\u001b[39m     constants = _pack_constants(a._cpp_object) \u001b[38;5;28;01mif\u001b[39;00m constants \u001b[38;5;129;01mis\u001b[39;00m \u001b[38;5;28;01mNone\u001b[39;00m \u001b[38;5;28;01melse\u001b[39;00m constants\n",
      "\u001b[31mKeyboardInterrupt\u001b[39m: "
     ]
    }
   ],
   "source": [
    "bayes_analysis = run_assimilation(problem_params,\n",
    "                                  solver_params,\n",
    "                                  stations,\n",
    "                                  y_obs,\n",
    "                                  obs_per_window,\n",
    "                                  obs_time_indices\n",
    "                                  H, B_inv, R_inv, P_inv, hb,\n",
    "                                'tidal',\n",
    "                                create_problem_solver,\n",
    "                                bayes_cost_function,\n",
    "                                swe_adjoint\n",
    "                             )"
   ]
  },
  {
   "cell_type": "code",
   "execution_count": null,
   "metadata": {},
   "outputs": [],
   "source": [
    "# bayes_analysis = run_assimilation(problem_params, solver_params, stations, y_obs, obs_per_window,\n",
    "#                              obs_indices_per_window,\n",
    "#                              H, B_inv, R_inv, P_inv, hb,\n",
    "#                              'tidal',\n",
    "#                              create_problem_solver,\n",
    "#                              bayes_cost_function,\n",
    "#                              grad_bayes_cost_function\n",
    "#                              )"
   ]
  },
  {
   "cell_type": "code",
   "execution_count": null,
   "metadata": {},
   "outputs": [],
   "source": [
    "# dci_analysis = run_assimilation(problem_params, solver_params, stations, y_obs, obs_per_window,\n",
    "#                              obs_indices_per_window,\n",
    "#                              H, B_inv, R_inv, P_inv, hb,\n",
    "#                              'tidal',\n",
    "#                              create_problem_solver,\n",
    "#                              dci_cost_function, \n",
    "#                             grad_dci_cost_function\n",
    "#                              )"
   ]
  },
  {
   "cell_type": "code",
   "execution_count": null,
   "metadata": {},
   "outputs": [],
   "source": [
    "# dci_wme_analysis = run_assimilation(problem_params, solver_params, stations, y_obs, obs_per_window,\n",
    "#                              obs_indices_per_window,\n",
    "#                              H, B_inv, R_inv, P_inv, hb,\n",
    "#                              'tidal',\n",
    "#                              create_problem_solver,\n",
    "#                              dci_wme_cost_function,\n",
    "#                              grad_dci_wme_cost_function\n",
    "#                              )"
   ]
  },
  {
   "cell_type": "code",
   "execution_count": null,
   "metadata": {},
   "outputs": [
    {
     "name": "stdout",
     "output_type": "stream",
     "text": [
      "(169, 32, 3) (169, 32, 3) (43, 32)\n",
      "(43, 32, 3) (43, 32, 3)\n"
     ]
    }
   ],
   "source": [
    "print(true_signal.vals.shape, bayes_analysis.shape, y_obs.shape)\n",
    "print(true_signal.vals[obs_indices].shape, bayes_analysis[obs_indices].shape)"
   ]
  },
  {
   "cell_type": "code",
   "execution_count": null,
   "metadata": {},
   "outputs": [],
   "source": [
    "# bayes_analysis\n",
    "# dci_analysis"
   ]
  },
  {
   "cell_type": "code",
   "execution_count": 10,
   "metadata": {},
   "outputs": [
    {
     "data": {
      "text/plain": [
       "np.float64(0.00017012346675273124)"
      ]
     },
     "execution_count": 10,
     "metadata": {},
     "output_type": "execute_result"
    }
   ],
   "source": [
    "bayes_rmse = np.sqrt(np.mean((true_signal.vals[:,:,0] - bayes_analysis[:,:,0]) ** 2))\n",
    "bayes_rmse"
   ]
  },
  {
   "cell_type": "code",
   "execution_count": 14,
   "metadata": {},
   "outputs": [
    {
     "data": {
      "text/plain": [
       "np.float64(0.00016845774408423133)"
      ]
     },
     "execution_count": 14,
     "metadata": {},
     "output_type": "execute_result"
    }
   ],
   "source": [
    "bayes_rmse = np.sqrt(np.mean((true_signal.vals[:,:,0] - bayes_analysis[:,:,0]) ** 2)) \n",
    "bayes_rmse"
   ]
  },
  {
   "cell_type": "code",
   "execution_count": 16,
   "metadata": {},
   "outputs": [
    {
     "data": {
      "text/plain": [
       "np.float64(0.0001684577440840877)"
      ]
     },
     "execution_count": 16,
     "metadata": {},
     "output_type": "execute_result"
    }
   ],
   "source": [
    "bayes_rmse = np.sqrt(np.mean((true_signal.vals[:,:,0] - bayes_analysis[:,:,0]) ** 2)) \n",
    "bayes_rmse"
   ]
  },
  {
   "cell_type": "code",
   "execution_count": 16,
   "metadata": {},
   "outputs": [
    {
     "data": {
      "text/plain": [
       "np.float64(0.0001684577440841142)"
      ]
     },
     "execution_count": 16,
     "metadata": {},
     "output_type": "execute_result"
    }
   ],
   "source": [
    "dci_rmse = np.sqrt(np.mean((true_signal.vals[:,:,0] - dci_analysis[:,:,0]) ** 2))\n",
    "dci_rmse"
   ]
  },
  {
   "cell_type": "code",
   "execution_count": null,
   "metadata": {},
   "outputs": [],
   "source": [
    "dci_wme_rmse = np.sqrt(np.mean((true_signal.vals[:,:,0] - dci_wme_analysis[:,:,0]) ** 2))\n",
    "dci_wme_rmse"
   ]
  },
  {
   "cell_type": "code",
   "execution_count": null,
   "metadata": {},
   "outputs": [],
   "source": [
    "plot_params = {\n",
    "    \"lines.linewidth\": 5,\n",
    "    \"lines.markersize\": 10,\n",
    "    'lines.markeredgecolor': 'black',\n",
    "    \"legend.fontsize\": 45,\n",
    "    \"legend.frameon\": False,\n",
    "    \"xtick.labelsize\": 45,\n",
    "    \"ytick.labelsize\": 45,\n",
    "    \"axes.labelsize\": 45,\n",
    "    \"axes.labelpad\": 10,\n",
    "    \"axes.titlesize\": 45,\n",
    "    \"figure.figsize\": (44, 16),\n",
    "}\n",
    "\n",
    "\n",
    "plot_simulation_results(true_signal, bayes_analysis, y_obs, hb, problem_params,\n",
    "                       obs_indices, plot_params, save=False, save_prefix=\"bayes_\")"
   ]
  },
  {
   "cell_type": "code",
   "execution_count": null,
   "metadata": {},
   "outputs": [],
   "source": [
    "plot_params = {\n",
    "    \"lines.linewidth\": 5,\n",
    "    \"lines.markersize\": 10,\n",
    "    'lines.markeredgecolor': 'black',\n",
    "    \"legend.fontsize\": 45,\n",
    "    \"legend.frameon\": False,\n",
    "    \"xtick.labelsize\": 45,\n",
    "    \"ytick.labelsize\": 45,\n",
    "    \"axes.labelsize\": 45,\n",
    "    \"axes.labelpad\": 10,\n",
    "    \"axes.titlesize\": 45,\n",
    "    \"figure.figsize\": (44, 16),\n",
    "}\n",
    "\n",
    "\n",
    "plot_simulation_results(true_signal, bayes_analysis, y_obs, hb, problem_params,\n",
    "                       obs_indices, plot_params, save=False, save_prefix=\"bayes_\")"
   ]
  },
  {
   "cell_type": "code",
   "execution_count": null,
   "metadata": {},
   "outputs": [],
   "source": [
    "filenames = [\"wse\", \"xvel\", \"yvel\"]\n",
    "\n",
    "for i, filename in enumerate(filenames):\n",
    "\twith open(f\"{name}_p1_{filename}.pkl\", 'wb') as f:\n",
    "\t\tpickle.dump(solver.vals[:,:,i], f)\n",
    "\n",
    "# np.savetxt(f\"{name}_p1_wse.csv\", solver.vals[:,:,0], delimiter=\",\")\n",
    "# np.savetxt(f\"{name}_p1_xvel.csv\", solver.vals[:,:,1], delimiter=\",\")\n",
    "# np.savetxt(f\"{name}_p1_yvel.csv\", solver.vals[:,:,2], delimiter=\",\")"
   ]
  },
  {
   "cell_type": "markdown",
   "metadata": {},
   "source": [
    "----\n",
    "# Expiremental"
   ]
  },
  {
   "cell_type": "code",
   "execution_count": 8,
   "metadata": {},
   "outputs": [],
   "source": [
    "from scipy.optimize import approx_fprime\n",
    "import numpy as np\n"
   ]
  },
  {
   "cell_type": "code",
   "execution_count": null,
   "metadata": {},
   "outputs": [],
   "source": [
    "# bayes_analysis = run_assimilation(problem_params, solver_params, stations, y_obs, obs_per_window,\n",
    "#                              obs_indices_per_window,\n",
    "#                              H, B_inv, R_inv, P_inv, hb,\n",
    "#                              'tidal',\n",
    "#                              create_problem_solver,\n",
    "#                              bayes_cost_function,\n",
    "#                              grad_bayes_cost_function\n",
    "#                              )"
   ]
  },
  {
   "cell_type": "code",
   "execution_count": 9,
   "metadata": {},
   "outputs": [
    {
     "name": "stdout",
     "output_type": "stream",
     "text": [
      "V scalar FunctionSpace(<Mesh #1>, Basix element (P, triangle, 1, gll_warped, unset, False, float64, []))\n",
      "USING NONSPHERICAL WELLBALANCED\n"
     ]
    }
   ],
   "source": [
    "# load initial state .npy file \n",
    "z0 = np.load(\"initial_state.npy\")\n",
    "zb = np.load(\"initial_state.npy\") \n",
    "Qzb = np.load(\"backgroundQzb.npy\")\n",
    "\n",
    "idx= 0\n",
    "initial_time = int(idx * problem_params[\"num_steps\"] * problem_params[\"dt\"])\n",
    "problem_params.update({\"t\": initial_time})\n",
    "\n",
    "# Create problem and solver\n",
    "_, solver = create_problem_solver(\n",
    "    problem_params, 'tidal', true_signal=False\n",
    ")\n",
    "solver.problem.t = initial_time\n",
    "indices = np.arange(obs_per_window) + (idx * obs_per_window)\n",
    "yobs_current_window = y_obs[indices]\n"
   ]
  },
  {
   "cell_type": "code",
   "execution_count": 10,
   "metadata": {},
   "outputs": [],
   "source": [
    "def cost_fn(z0):\n",
    "    total_cost = bayes_cost_function(\n",
    "        z0,\n",
    "        zb,\n",
    "        yobs_current_window,\n",
    "        obs_indices_per_window[:-1],\n",
    "        H,\n",
    "        B_inv,\n",
    "        R_inv,\n",
    "        P_inv,\n",
    "        Qzb,\n",
    "        solver_params,\n",
    "        stations,\n",
    "        hb,\n",
    "        solver,\n",
    "        initial_time,\n",
    "    )\n",
    "    # print(f\"Cost function value: {total_cost}\")\n",
    "    return total_cost\n",
    "\n",
    "#get gradient for cost function \n",
    "def grad_fn(z0):\n",
    "    grad = grad_bayes_cost_function(\n",
    "        z0,\n",
    "        zb,\n",
    "        yobs_current_window,\n",
    "        obs_indices_per_window[:-1],\n",
    "        H,\n",
    "        B_inv,\n",
    "        R_inv,\n",
    "        P_inv,\n",
    "        Qzb,\n",
    "        solver_params,\n",
    "        stations,\n",
    "        hb,\n",
    "        solver,\n",
    "        initial_time,\n",
    "    )\n",
    "    return grad \n",
    "\n",
    "\n",
    "\n",
    "def cost_function_gradient1(x0, epsilon=1e-6):\n",
    "    \"\"\"\n",
    "    Compute the gradient of the cost function using finite differences.\n",
    "    \"\"\"\n",
    "    # Using central finite differences\n",
    "    grad = np.zeros_like(x0)\n",
    "    \n",
    "    for i in range(len(x0)):\n",
    "        x_plus = x0.copy()\n",
    "        x_minus = x0.copy()\n",
    "        \n",
    "        x_plus[i] += epsilon\n",
    "        x_minus[i] -= epsilon\n",
    "        \n",
    "        J_plus = cost_fn(x_plus)\n",
    "        J_minus = cost_fn(x_minus)\n",
    "        \n",
    "        grad[i] = (J_plus - J_minus) / (2 * epsilon)\n",
    "        \n",
    "    return grad"
   ]
  },
  {
   "cell_type": "code",
   "execution_count": 13,
   "metadata": {},
   "outputs": [],
   "source": [
    "# grad_at_init = grad_fn(z0)\n",
    "# print(f\"Gradient at initial state: {grad_at_init}\")"
   ]
  },
  {
   "cell_type": "code",
   "execution_count": 41,
   "metadata": {},
   "outputs": [
    {
     "data": {
      "text/plain": [
       "(126,)"
      ]
     },
     "execution_count": 41,
     "metadata": {},
     "output_type": "execute_result"
    }
   ],
   "source": [
    "grad_at_init.shape"
   ]
  },
  {
   "cell_type": "code",
   "execution_count": 43,
   "metadata": {},
   "outputs": [
    {
     "data": {
      "image/png": "[encoded data removed]",
      "text/plain": [
       "<Figure size 1920x1440 with 1 Axes>"
      ]
     },
     "metadata": {},
     "output_type": "display_data"
    }
   ],
   "source": [
    "# direction = np.random.randn(*z0.shape)\n",
    "# direction /= np.linalg.norm(direction) \n",
    "direction = -grad_at_init / np.linalg.norm(grad_at_init)\n",
    "alphas = np.linspace(-1, 1, 100)\n",
    "vals = []\n",
    "\n",
    "for alpha in alphas: \n",
    "    z = z0 + alpha * direction\n",
    "    cost = cost_fn(z)\n",
    "    vals.append(cost)\n",
    "    # print(f\"Alpha: {alpha}, Cost: {cost}\")\n",
    "\n",
    "\n",
    "plt.plot(alphas, vals)\n",
    "plt.xlabel(\"alpha\")\n",
    "plt.ylabel(\"f(x0 + alpha * d)\")\n",
    "plt.title(\"Directional cost profile\")\n",
    "plt.show()"
   ]
  },
  {
   "cell_type": "code",
   "execution_count": 45,
   "metadata": {},
   "outputs": [],
   "source": [
    "def cost_function_gradient1(z0, epsilon=1e-6):\n",
    "    \"\"\"\n",
    "    Efficient forward finite difference gradient.\n",
    "    \"\"\"\n",
    "    z0 = np.asarray(z0)\n",
    "    grad = np.empty_like(z0)\n",
    "    J_base = cost_fn(z0)\n",
    "\n",
    "    x_perturbed = z0.copy()\n",
    "\n",
    "    for i in range(z0.size):\n",
    "        old_val = x_perturbed[i]\n",
    "        x_perturbed[i] = old_val + epsilon\n",
    "\n",
    "        grad[i] = (cost_fn(x_perturbed) - J_base) / epsilon\n",
    "\n",
    "        x_perturbed[i] = old_val  # restore in-place\n",
    "\n",
    "    return grad\n",
    "\n",
    "\n",
    "def cost_function_gradient2(z0, epsilon=1e-6):\n",
    "    \"\"\"\n",
    "    Compute the gradient of the cost function using forward finite differences.\n",
    "    \"\"\"\n",
    "    grad = np.empty_like(z0)\n",
    "    J_base = cost_fn(z0)\n",
    "\n",
    "    x_perturbed = z0.copy()\n",
    "\n",
    "    for i in range(len(z0)):\n",
    "        x_perturbed[i] = z0[i] + epsilon\n",
    "        J_plus = cost_fn(x_perturbed)\n",
    "        grad[i] = (J_plus - J_base) / epsilon\n",
    "        x_perturbed[i] = z0[i]  # Reset to original value\n",
    "\n",
    "    return grad\n",
    "\n",
    "\n",
    "def cost_function_gradient3(z0, epsilon=1e-6):\n",
    "    \"\"\"\n",
    "    Optimized forward finite difference gradient using vectorization.\n",
    "    \"\"\"\n",
    "    z0 = np.asarray(z0)\n",
    "    n = z0.size\n",
    "    J_base = cost_fn(z0)\n",
    "    \n",
    "    # Create a matrix where each row is z0 with one element perturbed\n",
    "    perturbations = np.eye(n) * epsilon\n",
    "    z_perturbed = z0.reshape(1, -1) + perturbations\n",
    "    \n",
    "    # Compute all perturbed cost function values at once\n",
    "    J_perturbed = np.array([cost_fn(z) for z in z_perturbed])\n",
    "    \n",
    "    # Calculate all gradients at once\n",
    "    grad = (J_perturbed - J_base) / epsilon\n",
    "    \n",
    "    return grad \n",
    "\n",
    "\n",
    "def cost_function_gradient4(z0, epsilon=1e-6, batch_size=5):\n",
    "    \"\"\"\n",
    "    Batched forward finite difference gradient for large arrays.\n",
    "    \"\"\"\n",
    "    z0 = np.asarray(z0)\n",
    "    n = z0.size\n",
    "    J_base = cost_fn(z0)\n",
    "    grad = np.empty(n)\n",
    "    \n",
    "    for i in range(0, n, batch_size):\n",
    "        end = min(i + batch_size, n)\n",
    "        batch_size_actual = end - i\n",
    "        \n",
    "        # Create batch of perturbations\n",
    "        perturbations = np.eye(batch_size_actual) * epsilon\n",
    "        z_batch = np.tile(z0, (batch_size_actual, 1))\n",
    "        z_batch[:, i:end] += perturbations\n",
    "        \n",
    "        # Compute batch of cost function values\n",
    "        J_perturbed = np.array([cost_fn(z) for z in z_batch])\n",
    "        \n",
    "        # Calculate batch of gradients\n",
    "        grad[i:end] = (J_perturbed - J_base) / epsilon\n",
    "        \n",
    "    return grad"
   ]
  },
  {
   "cell_type": "code",
   "execution_count": null,
   "metadata": {},
   "outputs": [
    {
     "name": "stdout",
     "output_type": "stream",
     "text": [
      "Collecting joblib\n",
      "  Downloading joblib-1.5.0-py3-none-any.whl.metadata (5.6 kB)\n",
      "Downloading joblib-1.5.0-py3-none-any.whl (307 kB)\n",
      "Installing collected packages: joblib\n",
      "Successfully installed joblib-1.5.0\n"
     ]
    }
   ],
   "source": []
  },
  {
   "cell_type": "code",
   "execution_count": 15,
   "metadata": {},
   "outputs": [
    {
     "name": "stdout",
     "output_type": "stream",
     "text": [
      "Gradient error: 1.024021508113475e-05\n",
      "Relative error: 7.2117852941048715e-06\n"
     ]
    }
   ],
   "source": [
    "\n",
    "epsilon = np.sqrt(np.finfo(float).eps)  # ≈ 1.49e-8\n",
    "# Analytic gradient\n",
    "grad_analytic = cost_function_gradient1(z0)\n",
    "\n",
    "# Numerical gradient via forward finite differences\n",
    "grad_numerical = approx_fprime(z0, cost_fn, epsilon)\n",
    "\n",
    "error = np.linalg.norm(grad_analytic - grad_numerical)\n",
    "rel_error = error / (np.linalg.norm(grad_numerical) + 1e-12)\n",
    "\n",
    "print(\"Gradient error:\", error)\n",
    "print(\"Relative error:\", rel_error)\n"
   ]
  },
  {
   "cell_type": "code",
   "execution_count": 22,
   "metadata": {},
   "outputs": [
    {
     "name": "stdout",
     "output_type": "stream",
     "text": [
      "Gradient error: 4.615039961807716e-06\n",
      "Relative error: 1.2891154315753199e-06\n"
     ]
    }
   ],
   "source": [
    "\n",
    "epsilon = np.sqrt(np.finfo(float).eps)  # ≈ 1.49e-8\n",
    "# Analytic gradient\n",
    "grad_analytic = cost_function_gradient4(z0)\n",
    "\n",
    "# Numerical gradient via forward finite differences\n",
    "grad_numerical = approx_fprime(z0, cost_fn, epsilon)\n",
    "\n",
    "error = np.linalg.norm(grad_analytic - grad_numerical)\n",
    "rel_error = error / (np.linalg.norm(grad_numerical) + 1e-12)\n",
    "\n",
    "print(\"Gradient error:\", error)\n",
    "print(\"Relative error:\", rel_error)\n"
   ]
  },
  {
   "cell_type": "code",
   "execution_count": null,
   "metadata": {},
   "outputs": [],
   "source": []
  },
  {
   "cell_type": "code",
   "execution_count": 20,
   "metadata": {},
   "outputs": [],
   "source": [
    "grad_numerical = approx_fprime(z0, cost_fn, epsilon)"
   ]
  },
  {
   "cell_type": "code",
   "execution_count": 30,
   "metadata": {},
   "outputs": [],
   "source": [
    "grad_analytic1 = cost_function_gradient1(z0,epsilon)"
   ]
  },
  {
   "cell_type": "code",
   "execution_count": null,
   "metadata": {},
   "outputs": [],
   "source": [
    "grad_analytic2 = cost_function_gradient2(z0,epsilon)"
   ]
  },
  {
   "cell_type": "code",
   "execution_count": 35,
   "metadata": {},
   "outputs": [],
   "source": [
    "grad_analytic3 = cost_function_gradient3(z0,epsilon)"
   ]
  },
  {
   "cell_type": "code",
   "execution_count": 46,
   "metadata": {},
   "outputs": [],
   "source": [
    "grad_analytic4 = cost_function_gradient4(z0,epsilon)"
   ]
  },
  {
   "cell_type": "code",
   "execution_count": null,
   "metadata": {},
   "outputs": [],
   "source": []
  }
 ],
 "metadata": {
  "kernelspec": {
   "display_name": "fenics-env3",
   "language": "python",
   "name": "python3"
  },
  "language_info": {
   "codemirror_mode": {
    "name": "ipython",
    "version": 3
   },
   "file_extension": ".py",
   "mimetype": "text/x-python",
   "name": "python",
   "nbconvert_exporter": "python",
   "pygments_lexer": "ipython3",
   "version": "3.13.2"
  }
 },
 "nbformat": 4,
 "nbformat_minor": 2
}
